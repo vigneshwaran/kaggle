{
  "cells": [
    {
      "metadata": {
        "_uuid": "8f2839f25d086af736a60e9eeb907d3b93b6e0e5",
        "_cell_guid": "b1076dfc-b9ad-4769-8c92-a6c4dae69d19",
        "trusted": true
      },
      "cell_type": "code",
      "source": "# This Python 3 environment comes with many helpful analytics libraries installed\n# It is defined by the kaggle/python docker image: https://github.com/kaggle/docker-python\n# For example, here's several helpful packages to load in \n\nimport numpy as np # linear algebra\nimport pandas as pd # data processing, CSV file I/O (e.g. pd.read_csv)\n\n# Input data files are available in the \"../input/\" directory.\n# For example, running this (by clicking run or pressing Shift+Enter) will list the files in the input directory\n\nimport os\nprint(os.listdir(\"../input\"))\n\n# Any results you write to the current directory are saved as output.",
      "execution_count": 1309,
      "outputs": [
        {
          "output_type": "stream",
          "text": "['train.csv', 'gender_submission.csv', 'test.csv']\n",
          "name": "stdout"
        }
      ]
    },
    {
      "metadata": {
        "_cell_guid": "79c7e3d0-c299-4dcb-8224-4455121ee9b0",
        "_uuid": "d629ff2d2480ee46fbb7e2d37f6b5fab8052498a",
        "trusted": true,
        "collapsed": true
      },
      "cell_type": "code",
      "source": "import pandas as pd\nimport matplotlib.pyplot as plt\nimport numpy as np\nimport seaborn as sns\nimport warnings\nfrom warnings import filterwarnings\nfilterwarnings('ignore')",
      "execution_count": 1310,
      "outputs": []
    },
    {
      "metadata": {
        "trusted": true,
        "_uuid": "6fb7a3fb08c8f64f8c6933ca26f00a3971302e53",
        "collapsed": true
      },
      "cell_type": "code",
      "source": "train = pd.read_csv(\"../input/train.csv\")\ntest = pd.read_csv(\"../input/test.csv\")",
      "execution_count": 1311,
      "outputs": []
    },
    {
      "metadata": {
        "trusted": true,
        "_uuid": "2b086705f171530dc5f7f8043d3ef3c246e4b802"
      },
      "cell_type": "code",
      "source": "train.head()",
      "execution_count": 1312,
      "outputs": [
        {
          "output_type": "execute_result",
          "execution_count": 1312,
          "data": {
            "text/plain": "   PassengerId  Survived  Pclass  \\\n0            1         0       3   \n1            2         1       1   \n2            3         1       3   \n3            4         1       1   \n4            5         0       3   \n\n                                                Name     Sex   Age  SibSp  \\\n0                            Braund, Mr. Owen Harris    male  22.0      1   \n1  Cumings, Mrs. John Bradley (Florence Briggs Th...  female  38.0      1   \n2                             Heikkinen, Miss. Laina  female  26.0      0   \n3       Futrelle, Mrs. Jacques Heath (Lily May Peel)  female  35.0      1   \n4                           Allen, Mr. William Henry    male  35.0      0   \n\n   Parch            Ticket     Fare Cabin Embarked  \n0      0         A/5 21171   7.2500   NaN        S  \n1      0          PC 17599  71.2833   C85        C  \n2      0  STON/O2. 3101282   7.9250   NaN        S  \n3      0            113803  53.1000  C123        S  \n4      0            373450   8.0500   NaN        S  ",
            "text/html": "<div>\n<style scoped>\n    .dataframe tbody tr th:only-of-type {\n        vertical-align: middle;\n    }\n\n    .dataframe tbody tr th {\n        vertical-align: top;\n    }\n\n    .dataframe thead th {\n        text-align: right;\n    }\n</style>\n<table border=\"1\" class=\"dataframe\">\n  <thead>\n    <tr style=\"text-align: right;\">\n      <th></th>\n      <th>PassengerId</th>\n      <th>Survived</th>\n      <th>Pclass</th>\n      <th>Name</th>\n      <th>Sex</th>\n      <th>Age</th>\n      <th>SibSp</th>\n      <th>Parch</th>\n      <th>Ticket</th>\n      <th>Fare</th>\n      <th>Cabin</th>\n      <th>Embarked</th>\n    </tr>\n  </thead>\n  <tbody>\n    <tr>\n      <th>0</th>\n      <td>1</td>\n      <td>0</td>\n      <td>3</td>\n      <td>Braund, Mr. Owen Harris</td>\n      <td>male</td>\n      <td>22.0</td>\n      <td>1</td>\n      <td>0</td>\n      <td>A/5 21171</td>\n      <td>7.2500</td>\n      <td>NaN</td>\n      <td>S</td>\n    </tr>\n    <tr>\n      <th>1</th>\n      <td>2</td>\n      <td>1</td>\n      <td>1</td>\n      <td>Cumings, Mrs. John Bradley (Florence Briggs Th...</td>\n      <td>female</td>\n      <td>38.0</td>\n      <td>1</td>\n      <td>0</td>\n      <td>PC 17599</td>\n      <td>71.2833</td>\n      <td>C85</td>\n      <td>C</td>\n    </tr>\n    <tr>\n      <th>2</th>\n      <td>3</td>\n      <td>1</td>\n      <td>3</td>\n      <td>Heikkinen, Miss. Laina</td>\n      <td>female</td>\n      <td>26.0</td>\n      <td>0</td>\n      <td>0</td>\n      <td>STON/O2. 3101282</td>\n      <td>7.9250</td>\n      <td>NaN</td>\n      <td>S</td>\n    </tr>\n    <tr>\n      <th>3</th>\n      <td>4</td>\n      <td>1</td>\n      <td>1</td>\n      <td>Futrelle, Mrs. Jacques Heath (Lily May Peel)</td>\n      <td>female</td>\n      <td>35.0</td>\n      <td>1</td>\n      <td>0</td>\n      <td>113803</td>\n      <td>53.1000</td>\n      <td>C123</td>\n      <td>S</td>\n    </tr>\n    <tr>\n      <th>4</th>\n      <td>5</td>\n      <td>0</td>\n      <td>3</td>\n      <td>Allen, Mr. William Henry</td>\n      <td>male</td>\n      <td>35.0</td>\n      <td>0</td>\n      <td>0</td>\n      <td>373450</td>\n      <td>8.0500</td>\n      <td>NaN</td>\n      <td>S</td>\n    </tr>\n  </tbody>\n</table>\n</div>"
          },
          "metadata": {}
        }
      ]
    },
    {
      "metadata": {
        "trusted": true,
        "scrolled": false,
        "_uuid": "51baf8842c9aa7e9f2629481cb4437bfa578da66"
      },
      "cell_type": "code",
      "source": "train.describe(include=\"all\")",
      "execution_count": 1313,
      "outputs": [
        {
          "output_type": "execute_result",
          "execution_count": 1313,
          "data": {
            "text/plain": "        PassengerId    Survived      Pclass                  Name   Sex  \\\ncount    891.000000  891.000000  891.000000                   891   891   \nunique          NaN         NaN         NaN                   891     2   \ntop             NaN         NaN         NaN  Petroff, Mr. Nedelio  male   \nfreq            NaN         NaN         NaN                     1   577   \nmean     446.000000    0.383838    2.308642                   NaN   NaN   \nstd      257.353842    0.486592    0.836071                   NaN   NaN   \nmin        1.000000    0.000000    1.000000                   NaN   NaN   \n25%      223.500000    0.000000    2.000000                   NaN   NaN   \n50%      446.000000    0.000000    3.000000                   NaN   NaN   \n75%      668.500000    1.000000    3.000000                   NaN   NaN   \nmax      891.000000    1.000000    3.000000                   NaN   NaN   \n\n               Age       SibSp       Parch Ticket        Fare        Cabin  \\\ncount   714.000000  891.000000  891.000000    891  891.000000          204   \nunique         NaN         NaN         NaN    681         NaN          147   \ntop            NaN         NaN         NaN   1601         NaN  C23 C25 C27   \nfreq           NaN         NaN         NaN      7         NaN            4   \nmean     29.699118    0.523008    0.381594    NaN   32.204208          NaN   \nstd      14.526497    1.102743    0.806057    NaN   49.693429          NaN   \nmin       0.420000    0.000000    0.000000    NaN    0.000000          NaN   \n25%      20.125000    0.000000    0.000000    NaN    7.910400          NaN   \n50%      28.000000    0.000000    0.000000    NaN   14.454200          NaN   \n75%      38.000000    1.000000    0.000000    NaN   31.000000          NaN   \nmax      80.000000    8.000000    6.000000    NaN  512.329200          NaN   \n\n       Embarked  \ncount       889  \nunique        3  \ntop           S  \nfreq        644  \nmean        NaN  \nstd         NaN  \nmin         NaN  \n25%         NaN  \n50%         NaN  \n75%         NaN  \nmax         NaN  ",
            "text/html": "<div>\n<style scoped>\n    .dataframe tbody tr th:only-of-type {\n        vertical-align: middle;\n    }\n\n    .dataframe tbody tr th {\n        vertical-align: top;\n    }\n\n    .dataframe thead th {\n        text-align: right;\n    }\n</style>\n<table border=\"1\" class=\"dataframe\">\n  <thead>\n    <tr style=\"text-align: right;\">\n      <th></th>\n      <th>PassengerId</th>\n      <th>Survived</th>\n      <th>Pclass</th>\n      <th>Name</th>\n      <th>Sex</th>\n      <th>Age</th>\n      <th>SibSp</th>\n      <th>Parch</th>\n      <th>Ticket</th>\n      <th>Fare</th>\n      <th>Cabin</th>\n      <th>Embarked</th>\n    </tr>\n  </thead>\n  <tbody>\n    <tr>\n      <th>count</th>\n      <td>891.000000</td>\n      <td>891.000000</td>\n      <td>891.000000</td>\n      <td>891</td>\n      <td>891</td>\n      <td>714.000000</td>\n      <td>891.000000</td>\n      <td>891.000000</td>\n      <td>891</td>\n      <td>891.000000</td>\n      <td>204</td>\n      <td>889</td>\n    </tr>\n    <tr>\n      <th>unique</th>\n      <td>NaN</td>\n      <td>NaN</td>\n      <td>NaN</td>\n      <td>891</td>\n      <td>2</td>\n      <td>NaN</td>\n      <td>NaN</td>\n      <td>NaN</td>\n      <td>681</td>\n      <td>NaN</td>\n      <td>147</td>\n      <td>3</td>\n    </tr>\n    <tr>\n      <th>top</th>\n      <td>NaN</td>\n      <td>NaN</td>\n      <td>NaN</td>\n      <td>Petroff, Mr. Nedelio</td>\n      <td>male</td>\n      <td>NaN</td>\n      <td>NaN</td>\n      <td>NaN</td>\n      <td>1601</td>\n      <td>NaN</td>\n      <td>C23 C25 C27</td>\n      <td>S</td>\n    </tr>\n    <tr>\n      <th>freq</th>\n      <td>NaN</td>\n      <td>NaN</td>\n      <td>NaN</td>\n      <td>1</td>\n      <td>577</td>\n      <td>NaN</td>\n      <td>NaN</td>\n      <td>NaN</td>\n      <td>7</td>\n      <td>NaN</td>\n      <td>4</td>\n      <td>644</td>\n    </tr>\n    <tr>\n      <th>mean</th>\n      <td>446.000000</td>\n      <td>0.383838</td>\n      <td>2.308642</td>\n      <td>NaN</td>\n      <td>NaN</td>\n      <td>29.699118</td>\n      <td>0.523008</td>\n      <td>0.381594</td>\n      <td>NaN</td>\n      <td>32.204208</td>\n      <td>NaN</td>\n      <td>NaN</td>\n    </tr>\n    <tr>\n      <th>std</th>\n      <td>257.353842</td>\n      <td>0.486592</td>\n      <td>0.836071</td>\n      <td>NaN</td>\n      <td>NaN</td>\n      <td>14.526497</td>\n      <td>1.102743</td>\n      <td>0.806057</td>\n      <td>NaN</td>\n      <td>49.693429</td>\n      <td>NaN</td>\n      <td>NaN</td>\n    </tr>\n    <tr>\n      <th>min</th>\n      <td>1.000000</td>\n      <td>0.000000</td>\n      <td>1.000000</td>\n      <td>NaN</td>\n      <td>NaN</td>\n      <td>0.420000</td>\n      <td>0.000000</td>\n      <td>0.000000</td>\n      <td>NaN</td>\n      <td>0.000000</td>\n      <td>NaN</td>\n      <td>NaN</td>\n    </tr>\n    <tr>\n      <th>25%</th>\n      <td>223.500000</td>\n      <td>0.000000</td>\n      <td>2.000000</td>\n      <td>NaN</td>\n      <td>NaN</td>\n      <td>20.125000</td>\n      <td>0.000000</td>\n      <td>0.000000</td>\n      <td>NaN</td>\n      <td>7.910400</td>\n      <td>NaN</td>\n      <td>NaN</td>\n    </tr>\n    <tr>\n      <th>50%</th>\n      <td>446.000000</td>\n      <td>0.000000</td>\n      <td>3.000000</td>\n      <td>NaN</td>\n      <td>NaN</td>\n      <td>28.000000</td>\n      <td>0.000000</td>\n      <td>0.000000</td>\n      <td>NaN</td>\n      <td>14.454200</td>\n      <td>NaN</td>\n      <td>NaN</td>\n    </tr>\n    <tr>\n      <th>75%</th>\n      <td>668.500000</td>\n      <td>1.000000</td>\n      <td>3.000000</td>\n      <td>NaN</td>\n      <td>NaN</td>\n      <td>38.000000</td>\n      <td>1.000000</td>\n      <td>0.000000</td>\n      <td>NaN</td>\n      <td>31.000000</td>\n      <td>NaN</td>\n      <td>NaN</td>\n    </tr>\n    <tr>\n      <th>max</th>\n      <td>891.000000</td>\n      <td>1.000000</td>\n      <td>3.000000</td>\n      <td>NaN</td>\n      <td>NaN</td>\n      <td>80.000000</td>\n      <td>8.000000</td>\n      <td>6.000000</td>\n      <td>NaN</td>\n      <td>512.329200</td>\n      <td>NaN</td>\n      <td>NaN</td>\n    </tr>\n  </tbody>\n</table>\n</div>"
          },
          "metadata": {}
        }
      ]
    },
    {
      "metadata": {
        "trusted": true,
        "_uuid": "f56c7e871d9e364d6a184babd6f4fe724d87eef0"
      },
      "cell_type": "code",
      "source": "print(pd.isnull(train).sum())",
      "execution_count": 1314,
      "outputs": [
        {
          "output_type": "stream",
          "text": "PassengerId      0\nSurvived         0\nPclass           0\nName             0\nSex              0\nAge            177\nSibSp            0\nParch            0\nTicket           0\nFare             0\nCabin          687\nEmbarked         2\ndtype: int64\n",
          "name": "stdout"
        }
      ]
    },
    {
      "metadata": {
        "trusted": true,
        "_uuid": "5ed2fa5b9ceec6ca3c6182221fb885849275b67a"
      },
      "cell_type": "code",
      "source": "sns.barplot(x=\"Sex\",y=\"Survived\",data=train)",
      "execution_count": 1315,
      "outputs": [
        {
          "output_type": "execute_result",
          "execution_count": 1315,
          "data": {
            "text/plain": "<matplotlib.axes._subplots.AxesSubplot at 0x7feba1836b00>"
          },
          "metadata": {}
        },
        {
          "output_type": "display_data",
          "data": {
            "text/plain": "<matplotlib.figure.Figure at 0x7feba1822fd0>",
            "image/png": "[encoded data removed]"
          },
          "metadata": {}
        }
      ]
    },
    {
      "metadata": {
        "trusted": true,
        "_uuid": "9d0ef36b92e19b3e3581f837a5e087478d458db4"
      },
      "cell_type": "code",
      "source": "print(\"Percentage of females who survived:\", train[\"Survived\"][train[\"Sex\"] == 'female'].value_counts(normalize = True)[1]*100)",
      "execution_count": 1316,
      "outputs": [
        {
          "output_type": "stream",
          "text": "Percentage of females who survived: 74.20382165605095\n",
          "name": "stdout"
        }
      ]
    },
    {
      "metadata": {
        "trusted": true,
        "_uuid": "637ef43ae201b33d527d457a2ad340112b181162"
      },
      "cell_type": "code",
      "source": "print(\"Percentage of Male who survived:\",train[\"Survived\"][train[\"Sex\"]=='male'].value_counts(normalize=True)[1]*100)",
      "execution_count": 1317,
      "outputs": [
        {
          "output_type": "stream",
          "text": "Percentage of Male who survived: 18.890814558058924\n",
          "name": "stdout"
        }
      ]
    },
    {
      "metadata": {
        "trusted": true,
        "_uuid": "c3b0c3922f05bf925bb5c925cbdf2924e96d2448"
      },
      "cell_type": "code",
      "source": "sns.barplot(x=\"Pclass\", y=\"Survived\", data=train)\n\n#print percentage of people by Pclass that survived\nprint(\"Percentage of Pclass = 1 who survived:\", train[\"Survived\"][train[\"Pclass\"] == 1].value_counts(normalize = True)[1]*100)\n\nprint(\"Percentage of Pclass = 2 who survived:\", train[\"Survived\"][train[\"Pclass\"] == 2].value_counts(normalize = True)[1]*100)\n\nprint(\"Percentage of Pclass = 3 who survived:\", train[\"Survived\"][train[\"Pclass\"] == 3].value_counts(normalize = True)[1]*100)",
      "execution_count": 1318,
      "outputs": [
        {
          "output_type": "stream",
          "text": "Percentage of Pclass = 1 who survived: 62.96296296296296\nPercentage of Pclass = 2 who survived: 47.28260869565217\nPercentage of Pclass = 3 who survived: 24.236252545824847\n",
          "name": "stdout"
        },
        {
          "output_type": "display_data",
          "data": {
            "text/plain": "<matplotlib.figure.Figure at 0x7feba1cf01d0>",
            "image/png": "[encoded data removed]"
          },
          "metadata": {}
        }
      ]
    },
    {
      "metadata": {
        "trusted": true,
        "_uuid": "96a3121c1d4f85f65ac9cbe79b8d654fa64d307f"
      },
      "cell_type": "code",
      "source": "#draw a bar plot for SibSp vs. survival\nsns.barplot(x=\"SibSp\", y=\"Survived\", data=train)\n\n#I won't be printing individual percent values for all of these.\nprint(\"Percentage of SibSp = 0 who survived:\", train[\"Survived\"][train[\"SibSp\"] == 0].value_counts(normalize = True)[1]*100)\n\nprint(\"Percentage of SibSp = 1 who survived:\", train[\"Survived\"][train[\"SibSp\"] == 1].value_counts(normalize = True)[1]*100)\n\nprint(\"Percentage of SibSp = 2 who survived:\", train[\"Survived\"][train[\"SibSp\"] == 2].value_counts(normalize = True)[1]*100)",
      "execution_count": 1319,
      "outputs": [
        {
          "output_type": "stream",
          "text": "Percentage of SibSp = 0 who survived: 34.53947368421053\nPercentage of SibSp = 1 who survived: 53.588516746411486\nPercentage of SibSp = 2 who survived: 46.42857142857143\n",
          "name": "stdout"
        },
        {
          "output_type": "display_data",
          "data": {
            "text/plain": "<matplotlib.figure.Figure at 0x7feba1788a90>",
            "image/png": "[encoded data removed]"
          },
          "metadata": {}
        }
      ]
    },
    {
      "metadata": {
        "trusted": true,
        "_uuid": "ef499ac5ff64646bf6f38a9801179db8a4854dcf",
        "collapsed": true
      },
      "cell_type": "code",
      "source": "SouthHampton = train[train[\"Embarked\"]=='S'].shape[0]",
      "execution_count": 1320,
      "outputs": []
    },
    {
      "metadata": {
        "trusted": true,
        "collapsed": true,
        "_uuid": "14819093e4db774406bc6a8dca8cdf3f8be93f33"
      },
      "cell_type": "code",
      "source": "Cherborg = train[train[\"Embarked\"]=='C'].shape[0]",
      "execution_count": 1321,
      "outputs": []
    },
    {
      "metadata": {
        "trusted": true,
        "_uuid": "db2008ca0bad0c66421597b3a343960793a15cd4",
        "collapsed": true
      },
      "cell_type": "code",
      "source": "QueenTown = train[train[\"Embarked\"]=='Q'].shape[0]",
      "execution_count": 1322,
      "outputs": []
    },
    {
      "metadata": {
        "trusted": true,
        "_uuid": "8666871cc67ff9fd93d58126ee64ede9fc411199"
      },
      "cell_type": "code",
      "source": "print(\"SouthHampton:\",SouthHampton,\"\\nCherborg\",Cherborg,\"\\nQueenLAnd:\",QueenTown)",
      "execution_count": 1323,
      "outputs": [
        {
          "output_type": "stream",
          "text": "SouthHampton: 644 \nCherborg 168 \nQueenLAnd: 77\n",
          "name": "stdout"
        }
      ]
    },
    {
      "metadata": {
        "trusted": true,
        "collapsed": true,
        "_uuid": "ff9ad2034172693b2453dbaaab87a4c2d496428c"
      },
      "cell_type": "code",
      "source": "combine=[train,test]",
      "execution_count": 1324,
      "outputs": []
    },
    {
      "metadata": {
        "trusted": true,
        "scrolled": false,
        "_uuid": "86fdda43828492f61ddc2b8c6f9884801f6f8962",
        "collapsed": true
      },
      "cell_type": "code",
      "source": "for dataset in combine:\n    dataset[\"Title\"]=dataset.Name.str.extract('([A-Za-z]+)\\.',expand=False)",
      "execution_count": 1325,
      "outputs": []
    },
    {
      "metadata": {
        "trusted": true,
        "_uuid": "120fa8292c1b4ea8a958ad103752a3384ac27892"
      },
      "cell_type": "code",
      "source": "pd.crosstab(train[\"Title\"],train[\"Sex\"])",
      "execution_count": 1326,
      "outputs": [
        {
          "output_type": "execute_result",
          "execution_count": 1326,
          "data": {
            "text/plain": "Sex       female  male\nTitle                 \nCapt           0     1\nCol            0     2\nCountess       1     0\nDon            0     1\nDr             1     6\nJonkheer       0     1\nLady           1     0\nMajor          0     2\nMaster         0    40\nMiss         182     0\nMlle           2     0\nMme            1     0\nMr             0   517\nMrs          125     0\nMs             1     0\nRev            0     6\nSir            0     1",
            "text/html": "<div>\n<style scoped>\n    .dataframe tbody tr th:only-of-type {\n        vertical-align: middle;\n    }\n\n    .dataframe tbody tr th {\n        vertical-align: top;\n    }\n\n    .dataframe thead th {\n        text-align: right;\n    }\n</style>\n<table border=\"1\" class=\"dataframe\">\n  <thead>\n    <tr style=\"text-align: right;\">\n      <th>Sex</th>\n      <th>female</th>\n      <th>male</th>\n    </tr>\n    <tr>\n      <th>Title</th>\n      <th></th>\n      <th></th>\n    </tr>\n  </thead>\n  <tbody>\n    <tr>\n      <th>Capt</th>\n      <td>0</td>\n      <td>1</td>\n    </tr>\n    <tr>\n      <th>Col</th>\n      <td>0</td>\n      <td>2</td>\n    </tr>\n    <tr>\n      <th>Countess</th>\n      <td>1</td>\n      <td>0</td>\n    </tr>\n    <tr>\n      <th>Don</th>\n      <td>0</td>\n      <td>1</td>\n    </tr>\n    <tr>\n      <th>Dr</th>\n      <td>1</td>\n      <td>6</td>\n    </tr>\n    <tr>\n      <th>Jonkheer</th>\n      <td>0</td>\n      <td>1</td>\n    </tr>\n    <tr>\n      <th>Lady</th>\n      <td>1</td>\n      <td>0</td>\n    </tr>\n    <tr>\n      <th>Major</th>\n      <td>0</td>\n      <td>2</td>\n    </tr>\n    <tr>\n      <th>Master</th>\n      <td>0</td>\n      <td>40</td>\n    </tr>\n    <tr>\n      <th>Miss</th>\n      <td>182</td>\n      <td>0</td>\n    </tr>\n    <tr>\n      <th>Mlle</th>\n      <td>2</td>\n      <td>0</td>\n    </tr>\n    <tr>\n      <th>Mme</th>\n      <td>1</td>\n      <td>0</td>\n    </tr>\n    <tr>\n      <th>Mr</th>\n      <td>0</td>\n      <td>517</td>\n    </tr>\n    <tr>\n      <th>Mrs</th>\n      <td>125</td>\n      <td>0</td>\n    </tr>\n    <tr>\n      <th>Ms</th>\n      <td>1</td>\n      <td>0</td>\n    </tr>\n    <tr>\n      <th>Rev</th>\n      <td>0</td>\n      <td>6</td>\n    </tr>\n    <tr>\n      <th>Sir</th>\n      <td>0</td>\n      <td>1</td>\n    </tr>\n  </tbody>\n</table>\n</div>"
          },
          "metadata": {}
        }
      ]
    },
    {
      "metadata": {
        "trusted": true,
        "scrolled": true,
        "_uuid": "700ddd3cc057cd54414a6aca2712cf436a0d7fa0"
      },
      "cell_type": "code",
      "source": "for dataset in combine:\n    dataset['Title'] = dataset['Title'].replace(['Lady', 'Capt', 'Col',\n    'Don', 'Dr', 'Major', 'Rev', 'Jonkheer', 'Dona'], 'Rare')\n    dataset['Title'] = dataset['Title'].replace(['Countess', 'Lady', 'Sir'], 'Royal')\n    dataset['Title'] = dataset['Title'].replace('Mlle', 'Miss')\n    dataset['Title'] = dataset['Title'].replace('Ms', 'Miss')\n    dataset['Title'] = dataset['Title'].replace('Mme', 'Mrs')\ntrain[['Title', 'Survived']].groupby(['Title'], as_index=False).mean()",
      "execution_count": 1327,
      "outputs": [
        {
          "output_type": "execute_result",
          "execution_count": 1327,
          "data": {
            "text/plain": "    Title  Survived\n0  Master  0.575000\n1    Miss  0.702703\n2      Mr  0.156673\n3     Mrs  0.793651\n4    Rare  0.285714\n5   Royal  1.000000",
            "text/html": "<div>\n<style scoped>\n    .dataframe tbody tr th:only-of-type {\n        vertical-align: middle;\n    }\n\n    .dataframe tbody tr th {\n        vertical-align: top;\n    }\n\n    .dataframe thead th {\n        text-align: right;\n    }\n</style>\n<table border=\"1\" class=\"dataframe\">\n  <thead>\n    <tr style=\"text-align: right;\">\n      <th></th>\n      <th>Title</th>\n      <th>Survived</th>\n    </tr>\n  </thead>\n  <tbody>\n    <tr>\n      <th>0</th>\n      <td>Master</td>\n      <td>0.575000</td>\n    </tr>\n    <tr>\n      <th>1</th>\n      <td>Miss</td>\n      <td>0.702703</td>\n    </tr>\n    <tr>\n      <th>2</th>\n      <td>Mr</td>\n      <td>0.156673</td>\n    </tr>\n    <tr>\n      <th>3</th>\n      <td>Mrs</td>\n      <td>0.793651</td>\n    </tr>\n    <tr>\n      <th>4</th>\n      <td>Rare</td>\n      <td>0.285714</td>\n    </tr>\n    <tr>\n      <th>5</th>\n      <td>Royal</td>\n      <td>1.000000</td>\n    </tr>\n  </tbody>\n</table>\n</div>"
          },
          "metadata": {}
        }
      ]
    },
    {
      "metadata": {
        "trusted": true,
        "_uuid": "2f3eeec09f9cc0d27e531977e97fb9e3683dadef"
      },
      "cell_type": "code",
      "source": "#map each of the title groups to a numerical value\ntitle_mapping = {\"Mr\": 1, \"Miss\": 2, \"Mrs\": 3, \"Master\": 4, \"Royal\": 5, \"Rare\": 6}\nfor dataset in combine:\n    dataset['Title'] = dataset['Title'].map(title_mapping)\n    dataset['Title'] = dataset['Title'].fillna(0)\n\ntrain.head()",
      "execution_count": 1328,
      "outputs": [
        {
          "output_type": "execute_result",
          "execution_count": 1328,
          "data": {
            "text/plain": "   PassengerId  Survived  Pclass  \\\n0            1         0       3   \n1            2         1       1   \n2            3         1       3   \n3            4         1       1   \n4            5         0       3   \n\n                                                Name     Sex   Age  SibSp  \\\n0                            Braund, Mr. Owen Harris    male  22.0      1   \n1  Cumings, Mrs. John Bradley (Florence Briggs Th...  female  38.0      1   \n2                             Heikkinen, Miss. Laina  female  26.0      0   \n3       Futrelle, Mrs. Jacques Heath (Lily May Peel)  female  35.0      1   \n4                           Allen, Mr. William Henry    male  35.0      0   \n\n   Parch            Ticket     Fare Cabin Embarked  Title  \n0      0         A/5 21171   7.2500   NaN        S      1  \n1      0          PC 17599  71.2833   C85        C      3  \n2      0  STON/O2. 3101282   7.9250   NaN        S      2  \n3      0            113803  53.1000  C123        S      3  \n4      0            373450   8.0500   NaN        S      1  ",
            "text/html": "<div>\n<style scoped>\n    .dataframe tbody tr th:only-of-type {\n        vertical-align: middle;\n    }\n\n    .dataframe tbody tr th {\n        vertical-align: top;\n    }\n\n    .dataframe thead th {\n        text-align: right;\n    }\n</style>\n<table border=\"1\" class=\"dataframe\">\n  <thead>\n    <tr style=\"text-align: right;\">\n      <th></th>\n      <th>PassengerId</th>\n      <th>Survived</th>\n      <th>Pclass</th>\n      <th>Name</th>\n      <th>Sex</th>\n      <th>Age</th>\n      <th>SibSp</th>\n      <th>Parch</th>\n      <th>Ticket</th>\n      <th>Fare</th>\n      <th>Cabin</th>\n      <th>Embarked</th>\n      <th>Title</th>\n    </tr>\n  </thead>\n  <tbody>\n    <tr>\n      <th>0</th>\n      <td>1</td>\n      <td>0</td>\n      <td>3</td>\n      <td>Braund, Mr. Owen Harris</td>\n      <td>male</td>\n      <td>22.0</td>\n      <td>1</td>\n      <td>0</td>\n      <td>A/5 21171</td>\n      <td>7.2500</td>\n      <td>NaN</td>\n      <td>S</td>\n      <td>1</td>\n    </tr>\n    <tr>\n      <th>1</th>\n      <td>2</td>\n      <td>1</td>\n      <td>1</td>\n      <td>Cumings, Mrs. John Bradley (Florence Briggs Th...</td>\n      <td>female</td>\n      <td>38.0</td>\n      <td>1</td>\n      <td>0</td>\n      <td>PC 17599</td>\n      <td>71.2833</td>\n      <td>C85</td>\n      <td>C</td>\n      <td>3</td>\n    </tr>\n    <tr>\n      <th>2</th>\n      <td>3</td>\n      <td>1</td>\n      <td>3</td>\n      <td>Heikkinen, Miss. Laina</td>\n      <td>female</td>\n      <td>26.0</td>\n      <td>0</td>\n      <td>0</td>\n      <td>STON/O2. 3101282</td>\n      <td>7.9250</td>\n      <td>NaN</td>\n      <td>S</td>\n      <td>2</td>\n    </tr>\n    <tr>\n      <th>3</th>\n      <td>4</td>\n      <td>1</td>\n      <td>1</td>\n      <td>Futrelle, Mrs. Jacques Heath (Lily May Peel)</td>\n      <td>female</td>\n      <td>35.0</td>\n      <td>1</td>\n      <td>0</td>\n      <td>113803</td>\n      <td>53.1000</td>\n      <td>C123</td>\n      <td>S</td>\n      <td>3</td>\n    </tr>\n    <tr>\n      <th>4</th>\n      <td>5</td>\n      <td>0</td>\n      <td>3</td>\n      <td>Allen, Mr. William Henry</td>\n      <td>male</td>\n      <td>35.0</td>\n      <td>0</td>\n      <td>0</td>\n      <td>373450</td>\n      <td>8.0500</td>\n      <td>NaN</td>\n      <td>S</td>\n      <td>1</td>\n    </tr>\n  </tbody>\n</table>\n</div>"
          },
          "metadata": {}
        }
      ]
    },
    {
      "metadata": {
        "trusted": true,
        "_uuid": "03b5942f0e6249206bcf638fe3ecb72036562fcc",
        "collapsed": true
      },
      "cell_type": "code",
      "source": "mr_age = train[train[\"Title\"] == 1][\"Age\"].mode() #Young Adult\nmiss_age = train[train[\"Title\"] == 2][\"Age\"].mode() #Student\nmrs_age = train[train[\"Title\"] == 3][\"Age\"].mode() #Adult\nmaster_age = train[train[\"Title\"] == 4][\"Age\"].mode() #Baby\nroyal_age = train[train[\"Title\"] == 5][\"Age\"].mode() #Adult\nrare_age = train[train[\"Title\"] == 6][\"Age\"].mode() #Adult",
      "execution_count": 1329,
      "outputs": []
    },
    {
      "metadata": {
        "trusted": true,
        "_uuid": "a1475068fd498e30b995180a2bae475f9837da6c",
        "collapsed": true
      },
      "cell_type": "code",
      "source": "",
      "execution_count": null,
      "outputs": []
    },
    {
      "metadata": {
        "trusted": true,
        "collapsed": true,
        "_uuid": "d25b80118e131d2a18d562612e39f3754c573954"
      },
      "cell_type": "code",
      "source": "age_title_mapping = {1: int(mr_age[0]), 2: miss_age[0], 3: mrs_age[0], 4: master_age[0], 5: royal_age[0], 6: rare_age[0]}",
      "execution_count": 1330,
      "outputs": []
    },
    {
      "metadata": {
        "trusted": true,
        "_uuid": "9c480aa29877b80796d5770d84f1a435f7b5a7ee",
        "scrolled": true
      },
      "cell_type": "code",
      "source": "age_title_mapping",
      "execution_count": 1331,
      "outputs": [
        {
          "output_type": "execute_result",
          "execution_count": 1331,
          "data": {
            "text/plain": "{1: 19, 2: 18.0, 3: 24.0, 4: 1.0, 5: 33.0, 6: 54.0}"
          },
          "metadata": {}
        }
      ]
    },
    {
      "metadata": {
        "trusted": true,
        "_uuid": "6b94b21868c918f40a3cced48cbc33a846298d63",
        "collapsed": true
      },
      "cell_type": "code",
      "source": "train[\"Age\"] = train[\"Age\"].fillna(train[\"Title\"].map(age_title_mapping))",
      "execution_count": 1332,
      "outputs": []
    },
    {
      "metadata": {
        "trusted": true,
        "_uuid": "ef05f57cc7eab52b5726d0a95170afd0ddc30df4",
        "collapsed": true
      },
      "cell_type": "code",
      "source": "train[\"Age\"]=list(map(lambda x:int(x//10),train[\"Age\"]))",
      "execution_count": 1333,
      "outputs": []
    },
    {
      "metadata": {
        "trusted": true,
        "_uuid": "1c2360e85cd29d5bca807ae1ed17dd956d914e4c",
        "collapsed": true
      },
      "cell_type": "code",
      "source": "train=train.drop([\"Name\"],axis=1)",
      "execution_count": 1334,
      "outputs": []
    },
    {
      "metadata": {
        "trusted": true,
        "collapsed": true,
        "_uuid": "364df870b61de37f55976818f5f14f8bf8011913"
      },
      "cell_type": "code",
      "source": "s={\"male\":0,\"female\":1}",
      "execution_count": 1335,
      "outputs": []
    },
    {
      "metadata": {
        "trusted": true,
        "collapsed": true,
        "_uuid": "8ab9e82266c7c12a5a274d6d8a3b09f3c6b0d321"
      },
      "cell_type": "code",
      "source": "train[\"Sex\"]=train[\"Sex\"].map(s)",
      "execution_count": 1336,
      "outputs": []
    },
    {
      "metadata": {
        "trusted": true,
        "collapsed": true,
        "_uuid": "158f17a8b46db5a60e907cc1eb4b2c3021019638"
      },
      "cell_type": "code",
      "source": "test[\"Sex\"]=test[\"Sex\"].map(s)",
      "execution_count": 1337,
      "outputs": []
    },
    {
      "metadata": {
        "trusted": true,
        "_uuid": "b8bb3920b83de34a3dd69215568ef7bab54d5067"
      },
      "cell_type": "code",
      "source": "train.head()",
      "execution_count": 1338,
      "outputs": [
        {
          "output_type": "execute_result",
          "execution_count": 1338,
          "data": {
            "text/plain": "   PassengerId  Survived  Pclass  Sex  Age  SibSp  Parch            Ticket  \\\n0            1         0       3    0    2      1      0         A/5 21171   \n1            2         1       1    1    3      1      0          PC 17599   \n2            3         1       3    1    2      0      0  STON/O2. 3101282   \n3            4         1       1    1    3      1      0            113803   \n4            5         0       3    0    3      0      0            373450   \n\n      Fare Cabin Embarked  Title  \n0   7.2500   NaN        S      1  \n1  71.2833   C85        C      3  \n2   7.9250   NaN        S      2  \n3  53.1000  C123        S      3  \n4   8.0500   NaN        S      1  ",
            "text/html": "<div>\n<style scoped>\n    .dataframe tbody tr th:only-of-type {\n        vertical-align: middle;\n    }\n\n    .dataframe tbody tr th {\n        vertical-align: top;\n    }\n\n    .dataframe thead th {\n        text-align: right;\n    }\n</style>\n<table border=\"1\" class=\"dataframe\">\n  <thead>\n    <tr style=\"text-align: right;\">\n      <th></th>\n      <th>PassengerId</th>\n      <th>Survived</th>\n      <th>Pclass</th>\n      <th>Sex</th>\n      <th>Age</th>\n      <th>SibSp</th>\n      <th>Parch</th>\n      <th>Ticket</th>\n      <th>Fare</th>\n      <th>Cabin</th>\n      <th>Embarked</th>\n      <th>Title</th>\n    </tr>\n  </thead>\n  <tbody>\n    <tr>\n      <th>0</th>\n      <td>1</td>\n      <td>0</td>\n      <td>3</td>\n      <td>0</td>\n      <td>2</td>\n      <td>1</td>\n      <td>0</td>\n      <td>A/5 21171</td>\n      <td>7.2500</td>\n      <td>NaN</td>\n      <td>S</td>\n      <td>1</td>\n    </tr>\n    <tr>\n      <th>1</th>\n      <td>2</td>\n      <td>1</td>\n      <td>1</td>\n      <td>1</td>\n      <td>3</td>\n      <td>1</td>\n      <td>0</td>\n      <td>PC 17599</td>\n      <td>71.2833</td>\n      <td>C85</td>\n      <td>C</td>\n      <td>3</td>\n    </tr>\n    <tr>\n      <th>2</th>\n      <td>3</td>\n      <td>1</td>\n      <td>3</td>\n      <td>1</td>\n      <td>2</td>\n      <td>0</td>\n      <td>0</td>\n      <td>STON/O2. 3101282</td>\n      <td>7.9250</td>\n      <td>NaN</td>\n      <td>S</td>\n      <td>2</td>\n    </tr>\n    <tr>\n      <th>3</th>\n      <td>4</td>\n      <td>1</td>\n      <td>1</td>\n      <td>1</td>\n      <td>3</td>\n      <td>1</td>\n      <td>0</td>\n      <td>113803</td>\n      <td>53.1000</td>\n      <td>C123</td>\n      <td>S</td>\n      <td>3</td>\n    </tr>\n    <tr>\n      <th>4</th>\n      <td>5</td>\n      <td>0</td>\n      <td>3</td>\n      <td>0</td>\n      <td>3</td>\n      <td>0</td>\n      <td>0</td>\n      <td>373450</td>\n      <td>8.0500</td>\n      <td>NaN</td>\n      <td>S</td>\n      <td>1</td>\n    </tr>\n  </tbody>\n</table>\n</div>"
          },
          "metadata": {}
        }
      ]
    },
    {
      "metadata": {
        "trusted": true,
        "_uuid": "644fbaf8bc165ca41b10adcc9b6ae5ec9d596250"
      },
      "cell_type": "code",
      "source": "train[\"Embarked\"].groupby(train[\"Embarked\"]).count()",
      "execution_count": 1339,
      "outputs": [
        {
          "output_type": "execute_result",
          "execution_count": 1339,
          "data": {
            "text/plain": "Embarked\nC    168\nQ     77\nS    644\nName: Embarked, dtype: int64"
          },
          "metadata": {}
        }
      ]
    },
    {
      "metadata": {
        "trusted": true,
        "collapsed": true,
        "_uuid": "b213629eafcf58a31f83a3aa75e322b8e5e4d95c"
      },
      "cell_type": "code",
      "source": "e={\"S\":0,\"C\":1,\"Q\":2}",
      "execution_count": 1340,
      "outputs": []
    },
    {
      "metadata": {
        "trusted": true,
        "collapsed": true,
        "_uuid": "f6facbc20eabf8ae628160752a93aa3688a8342f"
      },
      "cell_type": "code",
      "source": "train[\"Embarked\"]=train[\"Embarked\"].map(e)\ntest[\"Embarked\"]=test[\"Embarked\"].map(e)",
      "execution_count": 1341,
      "outputs": []
    },
    {
      "metadata": {
        "trusted": true,
        "_uuid": "980d8bce8ee73e011b5e7891876d4931e45a14b0",
        "collapsed": true
      },
      "cell_type": "code",
      "source": "d=dict(train[\"Fare\"].groupby(train[\"Pclass\"]).mean())",
      "execution_count": 1342,
      "outputs": []
    },
    {
      "metadata": {
        "trusted": true,
        "collapsed": true,
        "_uuid": "0f34bbd84899ecdfa5ff68bd521c8fe96f92b4a9"
      },
      "cell_type": "code",
      "source": "train[\"Fare\"] = train[\"Fare\"].fillna(train[\"Pclass\"].map(d))",
      "execution_count": 1343,
      "outputs": []
    },
    {
      "metadata": {
        "trusted": true,
        "collapsed": true,
        "_uuid": "e16e2ac98d776ea1bfdf342637d217ffb6f45fad"
      },
      "cell_type": "code",
      "source": "train['FareBand'] = pd.qcut(train['Fare'], 4, labels = [1, 2, 3, 4])\ntest['FareBand'] = pd.qcut(test['Fare'], 4, labels = [1, 2, 3, 4])",
      "execution_count": 1344,
      "outputs": []
    },
    {
      "metadata": {
        "trusted": true,
        "collapsed": true,
        "_uuid": "10a19d2588f5c1a7224867a0231fe99334b70a5b"
      },
      "cell_type": "code",
      "source": "train=train.drop([\"Fare\"],axis=1)",
      "execution_count": 1345,
      "outputs": []
    },
    {
      "metadata": {
        "trusted": true,
        "collapsed": true,
        "_uuid": "fc1a1b7fc72e708ef0357c3577e7fb9e3052f56f"
      },
      "cell_type": "code",
      "source": "test=test.drop([\"Fare\"],axis=1)",
      "execution_count": 1346,
      "outputs": []
    },
    {
      "metadata": {
        "trusted": true,
        "scrolled": false,
        "_uuid": "fe96110a028b049e7fffa19ab1e81878ca82327c",
        "collapsed": true
      },
      "cell_type": "code",
      "source": "combine=[train,test]",
      "execution_count": 1347,
      "outputs": []
    },
    {
      "metadata": {
        "trusted": true,
        "_uuid": "d08d51e95f72e55e0447a3dfffa10066cd5e4642",
        "collapsed": true
      },
      "cell_type": "code",
      "source": "for dataset in combine:\n    dataset[\"CabinPool\"]=dataset.Cabin.str.extract('([A-Za-z])',expand=False)",
      "execution_count": 1348,
      "outputs": []
    },
    {
      "metadata": {
        "trusted": true,
        "_uuid": "8e0365945417a93db94bbff9034ced35761321f7"
      },
      "cell_type": "code",
      "source": "train[\"CabinPool\"].groupby(train[\"CabinPool\"]).count()",
      "execution_count": 1349,
      "outputs": [
        {
          "output_type": "execute_result",
          "execution_count": 1349,
          "data": {
            "text/plain": "CabinPool\nA    15\nB    47\nC    59\nD    33\nE    32\nF    13\nG     4\nT     1\nName: CabinPool, dtype: int64"
          },
          "metadata": {}
        }
      ]
    },
    {
      "metadata": {
        "trusted": true,
        "collapsed": true,
        "_uuid": "adea810ca8065a27e5be058a781ad34218c0ac74"
      },
      "cell_type": "code",
      "source": "from sklearn.preprocessing import LabelEncoder",
      "execution_count": 1350,
      "outputs": []
    },
    {
      "metadata": {
        "trusted": true,
        "collapsed": true,
        "_uuid": "eac7a4407d32ec14789647f282fbaed75e528e9f"
      },
      "cell_type": "code",
      "source": "le=LabelEncoder()",
      "execution_count": 1351,
      "outputs": []
    },
    {
      "metadata": {
        "trusted": true,
        "_uuid": "4506780dfa01b3275b47cb3601bac592647ebe1f",
        "collapsed": true
      },
      "cell_type": "code",
      "source": "train[\"CabinPool\"]=le.fit_transform(list(train[\"CabinPool\"]))",
      "execution_count": 1352,
      "outputs": []
    },
    {
      "metadata": {
        "trusted": true,
        "_uuid": "9f0d80f030d91580bb8a772eaae863b2cf415da2",
        "collapsed": true
      },
      "cell_type": "code",
      "source": "train[\"CabinPool\"]=train[\"CabinPool\"].fillna(0)",
      "execution_count": 1353,
      "outputs": []
    },
    {
      "metadata": {
        "trusted": true,
        "collapsed": true,
        "_uuid": "7789213811ea7ff721ab88d999cd91df0d8d80d5"
      },
      "cell_type": "code",
      "source": "test[\"CabinPool\"]=test[\"CabinPool\"].fillna('X')",
      "execution_count": 1354,
      "outputs": []
    },
    {
      "metadata": {
        "trusted": true,
        "_uuid": "b7d5121ddcd5f9e91c0152a23d81893e99623931",
        "collapsed": true
      },
      "cell_type": "code",
      "source": "test[\"CabinPool\"]=le.fit_transform(list(test[\"CabinPool\"]))",
      "execution_count": 1355,
      "outputs": []
    },
    {
      "metadata": {
        "trusted": true,
        "_uuid": "feeafc8953071dd71479a26528d34161e1efbc20",
        "collapsed": true
      },
      "cell_type": "code",
      "source": "test = test.drop([\"Name\"],axis=1)",
      "execution_count": 1356,
      "outputs": []
    },
    {
      "metadata": {
        "trusted": true,
        "_uuid": "94c7df2b791d31c75a4cec1753289c6f16e16662",
        "collapsed": true
      },
      "cell_type": "code",
      "source": "test = test.drop([\"Cabin\"],axis=1)",
      "execution_count": 1357,
      "outputs": []
    },
    {
      "metadata": {
        "trusted": true,
        "collapsed": true,
        "_uuid": "2d5fe2f91286f6551786763fedbcb590446e1748"
      },
      "cell_type": "code",
      "source": "test = test.drop([\"Ticket\"],axis=1)",
      "execution_count": 1358,
      "outputs": []
    },
    {
      "metadata": {
        "trusted": true,
        "_uuid": "f9a80faabcccd31c6430cbce7b5dda74ba4b8b5b"
      },
      "cell_type": "code",
      "source": "test.head()",
      "execution_count": 1359,
      "outputs": [
        {
          "output_type": "execute_result",
          "execution_count": 1359,
          "data": {
            "text/plain": "   PassengerId  Pclass  Sex   Age  SibSp  Parch  Embarked  Title FareBand  \\\n0          892       3    0  34.5      0      0         2      1        1   \n1          893       3    1  47.0      1      0         0      3        1   \n2          894       2    0  62.0      0      0         2      1        2   \n3          895       3    0  27.0      0      0         0      1        2   \n4          896       3    1  22.0      1      1         0      3        2   \n\n   CabinPool  \n0          7  \n1          7  \n2          7  \n3          7  \n4          7  ",
            "text/html": "<div>\n<style scoped>\n    .dataframe tbody tr th:only-of-type {\n        vertical-align: middle;\n    }\n\n    .dataframe tbody tr th {\n        vertical-align: top;\n    }\n\n    .dataframe thead th {\n        text-align: right;\n    }\n</style>\n<table border=\"1\" class=\"dataframe\">\n  <thead>\n    <tr style=\"text-align: right;\">\n      <th></th>\n      <th>PassengerId</th>\n      <th>Pclass</th>\n      <th>Sex</th>\n      <th>Age</th>\n      <th>SibSp</th>\n      <th>Parch</th>\n      <th>Embarked</th>\n      <th>Title</th>\n      <th>FareBand</th>\n      <th>CabinPool</th>\n    </tr>\n  </thead>\n  <tbody>\n    <tr>\n      <th>0</th>\n      <td>892</td>\n      <td>3</td>\n      <td>0</td>\n      <td>34.5</td>\n      <td>0</td>\n      <td>0</td>\n      <td>2</td>\n      <td>1</td>\n      <td>1</td>\n      <td>7</td>\n    </tr>\n    <tr>\n      <th>1</th>\n      <td>893</td>\n      <td>3</td>\n      <td>1</td>\n      <td>47.0</td>\n      <td>1</td>\n      <td>0</td>\n      <td>0</td>\n      <td>3</td>\n      <td>1</td>\n      <td>7</td>\n    </tr>\n    <tr>\n      <th>2</th>\n      <td>894</td>\n      <td>2</td>\n      <td>0</td>\n      <td>62.0</td>\n      <td>0</td>\n      <td>0</td>\n      <td>2</td>\n      <td>1</td>\n      <td>2</td>\n      <td>7</td>\n    </tr>\n    <tr>\n      <th>3</th>\n      <td>895</td>\n      <td>3</td>\n      <td>0</td>\n      <td>27.0</td>\n      <td>0</td>\n      <td>0</td>\n      <td>0</td>\n      <td>1</td>\n      <td>2</td>\n      <td>7</td>\n    </tr>\n    <tr>\n      <th>4</th>\n      <td>896</td>\n      <td>3</td>\n      <td>1</td>\n      <td>22.0</td>\n      <td>1</td>\n      <td>1</td>\n      <td>0</td>\n      <td>3</td>\n      <td>2</td>\n      <td>7</td>\n    </tr>\n  </tbody>\n</table>\n</div>"
          },
          "metadata": {}
        }
      ]
    },
    {
      "metadata": {
        "trusted": true,
        "_uuid": "e860f8de36a3ff3c6a7cdc535ea019230272ed6c",
        "collapsed": true
      },
      "cell_type": "code",
      "source": "train=train.drop([\"Cabin\"],axis=1)",
      "execution_count": 1360,
      "outputs": []
    },
    {
      "metadata": {
        "trusted": true,
        "collapsed": true,
        "_uuid": "6f7e5ece4fad7a5ac616b90ac6d1031e2738f08b"
      },
      "cell_type": "code",
      "source": "train=train.drop([\"Ticket\"],axis=1)",
      "execution_count": 1361,
      "outputs": []
    },
    {
      "metadata": {
        "trusted": true,
        "_uuid": "7508f4b56b71aa972785b548ff0ff098c244d9ab"
      },
      "cell_type": "code",
      "source": "train.head()",
      "execution_count": 1362,
      "outputs": [
        {
          "output_type": "execute_result",
          "execution_count": 1362,
          "data": {
            "text/plain": "   PassengerId  Survived  Pclass  Sex  Age  SibSp  Parch  Embarked  Title  \\\n0            1         0       3    0    2      1      0       0.0      1   \n1            2         1       1    1    3      1      0       1.0      3   \n2            3         1       3    1    2      0      0       0.0      2   \n3            4         1       1    1    3      1      0       0.0      3   \n4            5         0       3    0    3      0      0       0.0      1   \n\n  FareBand  CabinPool  \n0        1          8  \n1        4          2  \n2        2          8  \n3        4          2  \n4        2          8  ",
            "text/html": "<div>\n<style scoped>\n    .dataframe tbody tr th:only-of-type {\n        vertical-align: middle;\n    }\n\n    .dataframe tbody tr th {\n        vertical-align: top;\n    }\n\n    .dataframe thead th {\n        text-align: right;\n    }\n</style>\n<table border=\"1\" class=\"dataframe\">\n  <thead>\n    <tr style=\"text-align: right;\">\n      <th></th>\n      <th>PassengerId</th>\n      <th>Survived</th>\n      <th>Pclass</th>\n      <th>Sex</th>\n      <th>Age</th>\n      <th>SibSp</th>\n      <th>Parch</th>\n      <th>Embarked</th>\n      <th>Title</th>\n      <th>FareBand</th>\n      <th>CabinPool</th>\n    </tr>\n  </thead>\n  <tbody>\n    <tr>\n      <th>0</th>\n      <td>1</td>\n      <td>0</td>\n      <td>3</td>\n      <td>0</td>\n      <td>2</td>\n      <td>1</td>\n      <td>0</td>\n      <td>0.0</td>\n      <td>1</td>\n      <td>1</td>\n      <td>8</td>\n    </tr>\n    <tr>\n      <th>1</th>\n      <td>2</td>\n      <td>1</td>\n      <td>1</td>\n      <td>1</td>\n      <td>3</td>\n      <td>1</td>\n      <td>0</td>\n      <td>1.0</td>\n      <td>3</td>\n      <td>4</td>\n      <td>2</td>\n    </tr>\n    <tr>\n      <th>2</th>\n      <td>3</td>\n      <td>1</td>\n      <td>3</td>\n      <td>1</td>\n      <td>2</td>\n      <td>0</td>\n      <td>0</td>\n      <td>0.0</td>\n      <td>2</td>\n      <td>2</td>\n      <td>8</td>\n    </tr>\n    <tr>\n      <th>3</th>\n      <td>4</td>\n      <td>1</td>\n      <td>1</td>\n      <td>1</td>\n      <td>3</td>\n      <td>1</td>\n      <td>0</td>\n      <td>0.0</td>\n      <td>3</td>\n      <td>4</td>\n      <td>2</td>\n    </tr>\n    <tr>\n      <th>4</th>\n      <td>5</td>\n      <td>0</td>\n      <td>3</td>\n      <td>0</td>\n      <td>3</td>\n      <td>0</td>\n      <td>0</td>\n      <td>0.0</td>\n      <td>1</td>\n      <td>2</td>\n      <td>8</td>\n    </tr>\n  </tbody>\n</table>\n</div>"
          },
          "metadata": {}
        }
      ]
    },
    {
      "metadata": {
        "trusted": true,
        "_uuid": "2d215ab647e96c8ebdaaf53640e15951534b980b",
        "collapsed": true
      },
      "cell_type": "code",
      "source": "",
      "execution_count": null,
      "outputs": []
    },
    {
      "metadata": {
        "trusted": true,
        "_uuid": "ed4778b55f09f2a2bb7e1a01c7c8ba6c9271e595"
      },
      "cell_type": "code",
      "source": "predictors.head()",
      "execution_count": 1363,
      "outputs": [
        {
          "output_type": "execute_result",
          "execution_count": 1363,
          "data": {
            "text/plain": "   Pclass  Sex  Age  SibSp  Parch  Embarked  Title FareBand  CabinPool\n0       3    0    2      1      0       0.0      1        1          8\n1       1    1    3      1      0       1.0      3        4          2\n2       3    1    2      0      0       0.0      2        2          8\n3       1    1    3      1      0       0.0      3        4          2\n4       3    0    3      0      0       0.0      1        2          8",
            "text/html": "<div>\n<style scoped>\n    .dataframe tbody tr th:only-of-type {\n        vertical-align: middle;\n    }\n\n    .dataframe tbody tr th {\n        vertical-align: top;\n    }\n\n    .dataframe thead th {\n        text-align: right;\n    }\n</style>\n<table border=\"1\" class=\"dataframe\">\n  <thead>\n    <tr style=\"text-align: right;\">\n      <th></th>\n      <th>Pclass</th>\n      <th>Sex</th>\n      <th>Age</th>\n      <th>SibSp</th>\n      <th>Parch</th>\n      <th>Embarked</th>\n      <th>Title</th>\n      <th>FareBand</th>\n      <th>CabinPool</th>\n    </tr>\n  </thead>\n  <tbody>\n    <tr>\n      <th>0</th>\n      <td>3</td>\n      <td>0</td>\n      <td>2</td>\n      <td>1</td>\n      <td>0</td>\n      <td>0.0</td>\n      <td>1</td>\n      <td>1</td>\n      <td>8</td>\n    </tr>\n    <tr>\n      <th>1</th>\n      <td>1</td>\n      <td>1</td>\n      <td>3</td>\n      <td>1</td>\n      <td>0</td>\n      <td>1.0</td>\n      <td>3</td>\n      <td>4</td>\n      <td>2</td>\n    </tr>\n    <tr>\n      <th>2</th>\n      <td>3</td>\n      <td>1</td>\n      <td>2</td>\n      <td>0</td>\n      <td>0</td>\n      <td>0.0</td>\n      <td>2</td>\n      <td>2</td>\n      <td>8</td>\n    </tr>\n    <tr>\n      <th>3</th>\n      <td>1</td>\n      <td>1</td>\n      <td>3</td>\n      <td>1</td>\n      <td>0</td>\n      <td>0.0</td>\n      <td>3</td>\n      <td>4</td>\n      <td>2</td>\n    </tr>\n    <tr>\n      <th>4</th>\n      <td>3</td>\n      <td>0</td>\n      <td>3</td>\n      <td>0</td>\n      <td>0</td>\n      <td>0.0</td>\n      <td>1</td>\n      <td>2</td>\n      <td>8</td>\n    </tr>\n  </tbody>\n</table>\n</div>"
          },
          "metadata": {}
        }
      ]
    },
    {
      "metadata": {
        "trusted": true,
        "_uuid": "1e8a0a317eb1b250fa07c9911eb7568cae4b6deb",
        "collapsed": true
      },
      "cell_type": "code",
      "source": "train[\"Embarked\"]=train[\"Embarked\"].fillna(0)",
      "execution_count": 1364,
      "outputs": []
    },
    {
      "metadata": {
        "trusted": true,
        "_uuid": "3b72f787a511cdf59a106262e1cf474d0a4eb574",
        "scrolled": true
      },
      "cell_type": "code",
      "source": "train=train.replace([np.inf, -np.inf], np.nan)",
      "execution_count": 1365,
      "outputs": []
    },
    {
      "metadata": {
        "trusted": true,
        "_uuid": "513014cb7423ec4438e854150dfc4d9e259247a0"
      },
      "cell_type": "code",
      "source": "train=train.fillna(train.mean())",
      "execution_count": 1366,
      "outputs": []
    },
    {
      "metadata": {
        "trusted": true,
        "collapsed": true,
        "_uuid": "e659d95b83745e13f9d43d9f48d15f0119a32dae"
      },
      "cell_type": "code",
      "source": "",
      "execution_count": null,
      "outputs": []
    },
    {
      "metadata": {
        "trusted": true,
        "_uuid": "e660b049477beeb6717768c8b54ca9c5f6c5ac5b",
        "collapsed": true
      },
      "cell_type": "code",
      "source": "train = train.drop([\"PassengerId\"],axis=1)",
      "execution_count": 1367,
      "outputs": []
    },
    {
      "metadata": {
        "trusted": true,
        "scrolled": true,
        "_uuid": "5a5e361b681d3fa1087fb8e80150e7ab1a3b07e6",
        "collapsed": true
      },
      "cell_type": "code",
      "source": "from sklearn.model_selection import train_test_split\nfrom sklearn.metrics import accuracy_score\n\npredictors = train.drop(['Survived'], axis=1)\ntarget = train[\"Survived\"]\nx_train, x_val, y_train, y_val = train_test_split(predictors, target, test_size = 0.22, random_state = 0)",
      "execution_count": 1368,
      "outputs": []
    },
    {
      "metadata": {
        "trusted": true,
        "_uuid": "d7c3c5c4f303cde65e2abdb9e634e7fa270a17a0"
      },
      "cell_type": "code",
      "source": "from sklearn.linear_model import LogisticRegression\nlog=LogisticRegression()\nlog.fit(x_train,y_train)\ny_pred=log.predict(x_val)\nacc_logreg = round(accuracy_score(y_pred,y_val)*100,2)\nprint(acc_logreg)",
      "execution_count": 1369,
      "outputs": [
        {
          "output_type": "stream",
          "text": "80.2\n",
          "name": "stdout"
        }
      ]
    },
    {
      "metadata": {
        "trusted": true,
        "_uuid": "60e0709d0dda3a237546b8f852c4eca4aca2146a"
      },
      "cell_type": "code",
      "source": "from sklearn.svm import SVC\n\nsvc = SVC()\nsvc.fit(x_train, y_train)\ny_pred = svc.predict(x_val)\nacc_svc = round(accuracy_score(y_pred, y_val) * 100, 2)\nprint(acc_svc)",
      "execution_count": 1370,
      "outputs": [
        {
          "output_type": "stream",
          "text": "83.25\n",
          "name": "stdout"
        }
      ]
    },
    {
      "metadata": {
        "trusted": true,
        "_uuid": "7eb422a7e9362a1f9e0f22e3e38944229fcaaf7f"
      },
      "cell_type": "code",
      "source": "# Linear SVC\nfrom sklearn.svm import LinearSVC\n\nlinear_svc = LinearSVC()\nlinear_svc.fit(x_train, y_train)\ny_pred = linear_svc.predict(x_val)\nacc_linear_svc = round(accuracy_score(y_pred, y_val) * 100, 2)\nprint(acc_linear_svc)",
      "execution_count": 1371,
      "outputs": [
        {
          "output_type": "stream",
          "text": "79.19\n",
          "name": "stdout"
        }
      ]
    },
    {
      "metadata": {
        "trusted": true,
        "_uuid": "bd6bc2b40f4b7737df042d47bbd71cc10de23784"
      },
      "cell_type": "code",
      "source": "# Perceptron\nfrom sklearn.linear_model import Perceptron\n\nperceptron = Perceptron()\nperceptron.fit(x_train, y_train)\ny_pred = perceptron.predict(x_val)\nacc_perceptron = round(accuracy_score(y_pred, y_val) * 100, 2)\nprint(acc_perceptron)",
      "execution_count": 1372,
      "outputs": [
        {
          "output_type": "stream",
          "text": "81.73\n",
          "name": "stdout"
        }
      ]
    },
    {
      "metadata": {
        "trusted": true,
        "_uuid": "05824162b412d2e588a4818677c873c4da80e68e"
      },
      "cell_type": "code",
      "source": "#Decision Tree\nfrom sklearn.tree import DecisionTreeClassifier\n\ndecisiontree = DecisionTreeClassifier()\ndecisiontree.fit(x_train, y_train)\ny_pred = decisiontree.predict(x_val)\nacc_decisiontree = round(accuracy_score(y_pred, y_val) * 100, 2)\nprint(acc_decisiontree)",
      "execution_count": 1373,
      "outputs": [
        {
          "output_type": "stream",
          "text": "83.76\n",
          "name": "stdout"
        }
      ]
    },
    {
      "metadata": {
        "trusted": true,
        "_uuid": "7ccd410bc47f4ba094026e17c54b2b37cbe8687a"
      },
      "cell_type": "code",
      "source": "from sklearn.ensemble import RandomForestClassifier\n\nrandomforest = RandomForestClassifier()\nrandomforest.fit(x_train, y_train)\ny_pred = randomforest.predict(x_val)\nacc_randomforest = round(accuracy_score(y_pred, y_val) * 100, 2)\nprint(acc_randomforest)",
      "execution_count": 1374,
      "outputs": [
        {
          "output_type": "stream",
          "text": "85.28\n",
          "name": "stdout"
        }
      ]
    },
    {
      "metadata": {
        "trusted": true,
        "_uuid": "0c912d7ae727ffcef018966df0d811d93146e9d6"
      },
      "cell_type": "code",
      "source": "from sklearn.neighbors import KNeighborsClassifier\n\nknn = KNeighborsClassifier()\nknn.fit(x_train, y_train)\ny_pred = knn.predict(x_val)\nacc_knn = round(accuracy_score(y_pred, y_val) * 100, 2)\nprint(acc_knn)",
      "execution_count": 1375,
      "outputs": [
        {
          "output_type": "stream",
          "text": "82.74\n",
          "name": "stdout"
        }
      ]
    },
    {
      "metadata": {
        "trusted": true,
        "_uuid": "50ea5d5347478ada082edb4276e6db71a73685aa"
      },
      "cell_type": "code",
      "source": "from sklearn.linear_model import SGDClassifier\n\nsgd = SGDClassifier()\nsgd.fit(x_train, y_train)\ny_pred = sgd.predict(x_val)\nacc_sgd = round(accuracy_score(y_pred, y_val) * 100, 2)\nprint(acc_sgd)",
      "execution_count": 1376,
      "outputs": [
        {
          "output_type": "stream",
          "text": "45.69\n",
          "name": "stdout"
        }
      ]
    },
    {
      "metadata": {
        "trusted": true,
        "_uuid": "9e8f14a41420c8efb9379ad292b5804fcb22dfa0"
      },
      "cell_type": "code",
      "source": "from sklearn.ensemble import GradientBoostingClassifier\n\ngbk = GradientBoostingClassifier()\ngbk.fit(x_train, y_train)\ny_pred = gbk.predict(x_val)\nacc_gbk = round(accuracy_score(y_pred, y_val) * 100, 2)\nprint(acc_gbk)",
      "execution_count": 1377,
      "outputs": [
        {
          "output_type": "stream",
          "text": "82.74\n",
          "name": "stdout"
        }
      ]
    },
    {
      "metadata": {
        "trusted": true,
        "_uuid": "90f50153de5ac2c291d3e7104718882e548f11e6"
      },
      "cell_type": "code",
      "source": "models = pd.DataFrame({\n    'Model': ['Support Vector Machines', 'KNN', 'Logistic Regression', \n              'Random Forest', 'Naive Bayes', 'Perceptron', 'Linear SVC', \n              'Decision Tree', 'Stochastic Gradient Descent', 'Gradient Boosting Classifier'],\n    'Score': [acc_svc, acc_knn, acc_logreg, \n              acc_randomforest, acc_gaussian, acc_perceptron,acc_linear_svc, acc_decisiontree,\n              acc_sgd, acc_gbk]})\nmodels.sort_values(by='Score', ascending=False)",
      "execution_count": 1378,
      "outputs": [
        {
          "output_type": "execute_result",
          "execution_count": 1378,
          "data": {
            "text/plain": "                          Model  Score\n3                 Random Forest  85.28\n7                 Decision Tree  83.76\n0       Support Vector Machines  83.25\n1                           KNN  82.74\n9  Gradient Boosting Classifier  82.74\n5                    Perceptron  81.73\n2           Logistic Regression  80.20\n6                    Linear SVC  79.19\n4                   Naive Bayes  78.68\n8   Stochastic Gradient Descent  45.69",
            "text/html": "<div>\n<style scoped>\n    .dataframe tbody tr th:only-of-type {\n        vertical-align: middle;\n    }\n\n    .dataframe tbody tr th {\n        vertical-align: top;\n    }\n\n    .dataframe thead th {\n        text-align: right;\n    }\n</style>\n<table border=\"1\" class=\"dataframe\">\n  <thead>\n    <tr style=\"text-align: right;\">\n      <th></th>\n      <th>Model</th>\n      <th>Score</th>\n    </tr>\n  </thead>\n  <tbody>\n    <tr>\n      <th>3</th>\n      <td>Random Forest</td>\n      <td>85.28</td>\n    </tr>\n    <tr>\n      <th>7</th>\n      <td>Decision Tree</td>\n      <td>83.76</td>\n    </tr>\n    <tr>\n      <th>0</th>\n      <td>Support Vector Machines</td>\n      <td>83.25</td>\n    </tr>\n    <tr>\n      <th>1</th>\n      <td>KNN</td>\n      <td>82.74</td>\n    </tr>\n    <tr>\n      <th>9</th>\n      <td>Gradient Boosting Classifier</td>\n      <td>82.74</td>\n    </tr>\n    <tr>\n      <th>5</th>\n      <td>Perceptron</td>\n      <td>81.73</td>\n    </tr>\n    <tr>\n      <th>2</th>\n      <td>Logistic Regression</td>\n      <td>80.20</td>\n    </tr>\n    <tr>\n      <th>6</th>\n      <td>Linear SVC</td>\n      <td>79.19</td>\n    </tr>\n    <tr>\n      <th>4</th>\n      <td>Naive Bayes</td>\n      <td>78.68</td>\n    </tr>\n    <tr>\n      <th>8</th>\n      <td>Stochastic Gradient Descent</td>\n      <td>45.69</td>\n    </tr>\n  </tbody>\n</table>\n</div>"
          },
          "metadata": {}
        }
      ]
    },
    {
      "metadata": {
        "trusted": true,
        "scrolled": false,
        "_uuid": "41ae4940e3ef1a7f4b66b77d07b2b24600ae4d5c"
      },
      "cell_type": "code",
      "source": "test=test.replace([np.inf, -np.inf], np.nan)",
      "execution_count": 1379,
      "outputs": []
    },
    {
      "metadata": {
        "trusted": true,
        "_uuid": "31680594e9c136a4bc31d98e3f88d83c7aaec261"
      },
      "cell_type": "code",
      "source": "test=test.fillna(1)",
      "execution_count": 1380,
      "outputs": []
    },
    {
      "metadata": {
        "trusted": true,
        "_uuid": "4c737dfff2690d545e03335a12bac682aed8d6e4"
      },
      "cell_type": "code",
      "source": "#set ids as PassengerId and predict survival \nids = test['PassengerId']\npredictions = randomforest.predict(test.drop('PassengerId', axis=1))\n\n#set the output as a dataframe and convert to csv file named submission.csv\noutput = pd.DataFrame({ 'PassengerId' : ids, 'Survived': predictions })\noutput.to_csv('submission.csv', index=False)",
      "execution_count": 1381,
      "outputs": []
    },
    {
      "metadata": {
        "trusted": true,
        "collapsed": true,
        "_uuid": "0e101e95c5721cb4fee6cec0c778518246bf7d73"
      },
      "cell_type": "code",
      "source": "",
      "execution_count": null,
      "outputs": []
    }
  ],
  "metadata": {
    "kernelspec": {
      "display_name": "Python 3",
      "language": "python",
      "name": "python3"
    },
    "language_info": {
      "name": "python",
      "version": "3.6.4",
      "mimetype": "text/x-python",
      "codemirror_mode": {
        "name": "ipython",
        "version": 3
      },
      "pygments_lexer": "ipython3",
      "nbconvert_exporter": "python",
      "file_extension": ".py"
    }
  },
  "nbformat": 4,
  "nbformat_minor": 1
}